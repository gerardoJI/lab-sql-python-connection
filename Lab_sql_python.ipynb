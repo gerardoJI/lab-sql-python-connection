{
 "cells": [
  {
   "cell_type": "markdown",
   "metadata": {},
   "source": [
    "# lab-sql-python-connection\n"
   ]
  },
  {
   "cell_type": "markdown",
   "metadata": {},
   "source": [
    "### Load .evn file with passwor db_pass"
   ]
  },
  {
   "cell_type": "code",
   "execution_count": 1,
   "metadata": {},
   "outputs": [],
   "source": [
    "    # Load .evn file with passwor db_pass\n",
    "from dotenv import load_dotenv\n",
    "import functions as f\n",
    "import os\n",
    "load_dotenv()\n",
    "\n",
    "db_pass = os.getenv(\"db_pass\") # db_pass=my_password"
   ]
  },
  {
   "cell_type": "markdown",
   "metadata": {},
   "source": [
    "Write a Python function called rentals_month that retrieves rental data for a given month and year (passed as parameters) from the Sakila database as a Pandas DataFrame. The function should take in three parameters:\n",
    "\n",
    "engine: an object representing the database connection engine to be used to establish a connection to the Sakila database.\n",
    "month: an integer representing the month for which rental data is to be retrieved.\n",
    "year: an integer representing the year for which rental data is to be retrieved."
   ]
  },
  {
   "cell_type": "code",
   "execution_count": 2,
   "metadata": {},
   "outputs": [],
   "source": [
    "df=f.rentals_month(\"sakila\", \"05\", \"2005\")"
   ]
  },
  {
   "cell_type": "markdown",
   "metadata": {},
   "source": [
    "Develop a Python function called rental_count_month that takes the DataFrame provided by rentals_month as input along with the month and year and returns a new DataFrame containing the number of rentals made by each customer_id during the selected month and year."
   ]
  },
  {
   "cell_type": "code",
   "execution_count": 3,
   "metadata": {},
   "outputs": [],
   "source": [
    "df1=f.rental_count_month(df,\"05\", \"2005\")\n",
    "df2=f.rental_count_month(df,\"06\", \"2005\")"
   ]
  },
  {
   "cell_type": "markdown",
   "metadata": {},
   "source": [
    "Create a Python function called compare_rentals that takes two DataFrames as input containing the number of rentals made by each customer in different months and years. The function should return a combined DataFrame with a new 'difference' column, which is the difference between the number of rentals in the two months."
   ]
  },
  {
   "cell_type": "code",
   "execution_count": 4,
   "metadata": {},
   "outputs": [],
   "source": [
    "df_f=f.compare_rentals(df1, df2,\"rentals_05_2005\",'rentals_06_2005')"
   ]
  }
 ],
 "metadata": {
  "kernelspec": {
   "display_name": "en_p1",
   "language": "python",
   "name": "python3"
  },
  "language_info": {
   "codemirror_mode": {
    "name": "ipython",
    "version": 3
   },
   "file_extension": ".py",
   "mimetype": "text/x-python",
   "name": "python",
   "nbconvert_exporter": "python",
   "pygments_lexer": "ipython3",
   "version": "3.11.10"
  }
 },
 "nbformat": 4,
 "nbformat_minor": 2
}
